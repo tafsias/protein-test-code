{
 "cells": [
  {
   "cell_type": "code",
   "execution_count": 9,
   "metadata": {},
   "outputs": [
    {
     "ename": "ImportError",
     "evalue": "cannot import name 'MutableMapping' from 'collections' (c:\\Users\\Tafsia Shikdar\\anaconda3\\envs\\blast\\lib\\collections\\__init__.py)",
     "output_type": "error",
     "traceback": [
      "\u001b[1;31m---------------------------------------------------------------------------\u001b[0m",
      "\u001b[1;31mModuleNotFoundError\u001b[0m                       Traceback (most recent call last)",
      "File \u001b[1;32mc:\\Users\\Tafsia Shikdar\\anaconda3\\envs\\blast\\lib\\site-packages\\intermine\\webservice.py:9\u001b[0m, in \u001b[0;36m<module>\u001b[1;34m\u001b[0m\n\u001b[0;32m      8\u001b[0m \u001b[39mtry\u001b[39;00m:\n\u001b[1;32m----> 9\u001b[0m     \u001b[39mfrom\u001b[39;00m \u001b[39murlparse\u001b[39;00m \u001b[39mimport\u001b[39;00m urlparse\n\u001b[0;32m     10\u001b[0m     \u001b[39mfrom\u001b[39;00m \u001b[39mUserDict\u001b[39;00m \u001b[39mimport\u001b[39;00m DictMixin\n",
      "\u001b[1;31mModuleNotFoundError\u001b[0m: No module named 'urlparse'",
      "\nDuring handling of the above exception, another exception occurred:\n",
      "\u001b[1;31mImportError\u001b[0m                               Traceback (most recent call last)",
      "\u001b[1;32mUntitled-1.ipynb Cell 1\u001b[0m in \u001b[0;36m<cell line: 1>\u001b[1;34m()\u001b[0m\n\u001b[1;32m----> <a href='vscode-notebook-cell:Untitled-1.ipynb?jupyter-notebook#W1sdW50aXRsZWQ%3D?line=0'>1</a>\u001b[0m \u001b[39mfrom\u001b[39;00m \u001b[39mintermine\u001b[39;00m\u001b[39m.\u001b[39;00m\u001b[39mwebservice\u001b[39;00m \u001b[39mimport\u001b[39;00m Service\n",
      "File \u001b[1;32mc:\\Users\\Tafsia Shikdar\\anaconda3\\envs\\blast\\lib\\site-packages\\intermine\\webservice.py:16\u001b[0m, in \u001b[0;36m<module>\u001b[1;34m\u001b[0m\n\u001b[0;32m     14\u001b[0m     \u001b[39mfrom\u001b[39;00m \u001b[39murllib\u001b[39;00m\u001b[39m.\u001b[39;00m\u001b[39mparse\u001b[39;00m \u001b[39mimport\u001b[39;00m urlparse\n\u001b[0;32m     15\u001b[0m     \u001b[39mfrom\u001b[39;00m \u001b[39murllib\u001b[39;00m\u001b[39m.\u001b[39;00m\u001b[39mparse\u001b[39;00m \u001b[39mimport\u001b[39;00m urlencode\n\u001b[1;32m---> 16\u001b[0m     \u001b[39mfrom\u001b[39;00m \u001b[39mcollections\u001b[39;00m \u001b[39mimport\u001b[39;00m MutableMapping \u001b[39mas\u001b[39;00m DictMixin\n\u001b[0;32m     17\u001b[0m     \u001b[39mfrom\u001b[39;00m \u001b[39murllib\u001b[39;00m\u001b[39m.\u001b[39;00m\u001b[39mrequest\u001b[39;00m \u001b[39mimport\u001b[39;00m urlopen\n\u001b[0;32m     19\u001b[0m \u001b[39mtry\u001b[39;00m:\n",
      "\u001b[1;31mImportError\u001b[0m: cannot import name 'MutableMapping' from 'collections' (c:\\Users\\Tafsia Shikdar\\anaconda3\\envs\\blast\\lib\\collections\\__init__.py)"
     ]
    }
   ],
   "source": [
    "from intermine.webservice import Service"
   ]
  },
  {
   "cell_type": "code",
   "execution_count": 7,
   "metadata": {},
   "outputs": [
    {
     "ename": "AttributeError",
     "evalue": "module 'intermine' has no attribute 'query'",
     "output_type": "error",
     "traceback": [
      "\u001b[1;31m---------------------------------------------------------------------------\u001b[0m",
      "\u001b[1;31mAttributeError\u001b[0m                            Traceback (most recent call last)",
      "\u001b[1;32mUntitled-1.ipynb Cell 2\u001b[0m in \u001b[0;36m<cell line: 3>\u001b[1;34m()\u001b[0m\n\u001b[0;32m      <a href='vscode-notebook-cell:Untitled-1.ipynb?jupyter-notebook#W0sdW50aXRsZWQ%3D?line=0'>1</a>\u001b[0m \u001b[39m#flymine = intermine.Service('www.flymine.org/query', token = 'B1C8S2gaA2Nfp752y0Rb')\u001b[39;00m\n\u001b[1;32m----> <a href='vscode-notebook-cell:Untitled-1.ipynb?jupyter-notebook#W0sdW50aXRsZWQ%3D?line=2'>3</a>\u001b[0m service \u001b[39m=\u001b[39m intermine\u001b[39m.\u001b[39;49mquery\u001b[39m.\u001b[39mQuery\u001b[39m.\u001b[39mService(\u001b[39m\"\u001b[39m\u001b[39mhttp://www.flymine.org/phytomine/query/service\u001b[39m\u001b[39m\"\u001b[39m)\n\u001b[0;32m      <a href='vscode-notebook-cell:Untitled-1.ipynb?jupyter-notebook#W0sdW50aXRsZWQ%3D?line=3'>4</a>\u001b[0m query \u001b[39m=\u001b[39m service\u001b[39m.\u001b[39mnew_query()\n\u001b[0;32m      <a href='vscode-notebook-cell:Untitled-1.ipynb?jupyter-notebook#W0sdW50aXRsZWQ%3D?line=5'>6</a>\u001b[0m query\u001b[39m.\u001b[39madd_views(\u001b[39m\"\u001b[39m\u001b[39mGene.*\u001b[39m\u001b[39m\"\u001b[39m)\n",
      "\u001b[1;31mAttributeError\u001b[0m: module 'intermine' has no attribute 'query'"
     ]
    }
   ],
   "source": [
    "#flymine = intermine.Service('www.flymine.org/query', token = 'B1C8S2gaA2Nfp752y0Rb')\n",
    "\n",
    "service = intermine.query.Query.Service(\"http://www.flymine.org/phytomine/query/service\")\n",
    "query = service.new_query()\n",
    "\n",
    "query.add_views(\"Gene.*\")\n",
    "\n",
    "query.add_constraint(\"Gene\", \"LOOKUP\", \"GlymaFiskIII.19G150900.1.p\")\n",
    "\n",
    "for row in query.result(\"json\"):\n",
    "    print(row)"
   ]
  },
  {
   "cell_type": "code",
   "execution_count": null,
   "metadata": {},
   "outputs": [],
   "source": []
  }
 ],
 "metadata": {
  "kernelspec": {
   "display_name": "Python 3.10.4 ('blast')",
   "language": "python",
   "name": "python3"
  },
  "language_info": {
   "codemirror_mode": {
    "name": "ipython",
    "version": 3
   },
   "file_extension": ".py",
   "mimetype": "text/x-python",
   "name": "python",
   "nbconvert_exporter": "python",
   "pygments_lexer": "ipython3",
   "version": "3.10.4"
  },
  "orig_nbformat": 4,
  "vscode": {
   "interpreter": {
    "hash": "dbdf5c8dbf87b3169415e0acf39613114f5f150d38cc301bbc68c0e106389f60"
   }
  }
 },
 "nbformat": 4,
 "nbformat_minor": 2
}
