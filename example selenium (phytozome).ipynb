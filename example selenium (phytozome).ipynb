{
 "cells": [
  {
   "cell_type": "code",
   "execution_count": 25,
   "metadata": {},
   "outputs": [],
   "source": [
    "from selenium import webdriver\n",
    "from selenium.webdriver.common.keys import Keys\n",
    "from selenium.webdriver.common.by import By\n",
    "from selenium.webdriver.common.action_chains import ActionChains\n",
    "from selenium.webdriver.chrome.options import Options\n",
    "from selenium.webdriver.chrome.service import Service as ChromeService\n",
    "from webdriver_manager.chrome import ChromeDriverManager\n",
    "from selenium.webdriver.support.ui import WebDriverWait\n",
    "from selenium.webdriver.support import expected_conditions as EC\n",
    "import os, sys\n",
    "import pandas as pd"
   ]
  },
  {
   "cell_type": "code",
   "execution_count": 26,
   "metadata": {},
   "outputs": [],
   "source": [
    "#object of Options class\n",
    "op = webdriver.ChromeOptions()\n",
    "#browser preferences\n",
    "p = {'download.default_directory':'C:\\\\Users\\\\Tafsia Shikdar\\\\Downloads\\\\phytozome_download'}\n",
    "#add options to browser\n",
    "op.add_experimental_option('prefs', p)\n",
    "#webdriver (interface for remotely controlling browsers) location, specifically for Google Chrome\n",
    "service = ChromeService(executable_path='C:/Users/Tafsia Shikdar/Desktop/protein-uniprot-blast/chromedriver.exe')\n",
    "driver = webdriver.Chrome(service=service, options=op)\n",
    "#driver = webdriver.Chrome(ChromeDriverManager().install())\n",
    "#driver = webdriver.Chrome(service=Service('C:/Users/Tafsia Shikdar/Desktop/protein-uniprot-blast/chromedriver.exe'), options = op)\n",
    "#driver = webdriver.Chrome(executable_path='/Users/Tafsia Shikdar/Desktop/protein-uniprot-blast/chromedriver.exe', options=op)\n",
    "#load webpage\n",
    "driver.get(\"https://phytozome-next.jgi.doe.gov/blast-search\")\n",
    "#100 hits\n",
    "#https://phytozome-next.jgi.doe.gov/blast-results/640337 \n",
    "#0 hits\n",
    "#https://phytozome-next.jgi.doe.gov/blast-results/639710\n",
    "#wait some time before throwing exception to allow web page to load\n",
    "#driver.implicitly_wait(10000)"
   ]
  },
  {
   "cell_type": "code",
   "execution_count": 27,
   "metadata": {},
   "outputs": [],
   "source": [
    "#HTML code showing location of search text box\n",
    "search = WebDriverWait(driver, 1000).until(EC.presence_of_element_located((By.XPATH, '/html/body/div/div/div/main/div/div/div/div/form/fieldset/textarea')))\n",
    "#Once integrated with uniprot, will use the same input\n",
    "#'MIDNAYHIDS'\n",
    "seq = \"MARPFTLSLLSLCLLLSAWSCFGGSSSTNRFNICQLNSLNALKPDHRVETDGGLVETWSSRHPELECAGVTVTRRTLYRNGFQMPSYSPYSQMIMAIQGKGALGLALSGCAETYEEPAKESSSSSQKPSDSHQKIRQFDQGHVMLIPRGVPFWIFNTGDEPLITVTLLDTSSEDNQLDQSPREFYLAGNPDIEHPEAMKEKQQQQAEEEGGNVLSGFGKRFLARALNIDQDTANKLISPDDEMKQIVKLKEGLSVISPKWQGQQEDEDEDDDDEDEDESVSRPSRRPSHGKRVHKEEETVVEPYPHGKHVHKEVEKEVEPLPPRKHVHKEEEKEIEPLPPRRSRHHHDEGEDEGEEEEKPRARRTRGPTPSPKGEGHRGVEEEDESEDTKGHKTRHEKTRHEKSWKEHRPEGEDVEKGEAHEEWETRPSKDKPHGSNGLDETICSSKLQFNIARPKGADFYNPKAGRIKNLNSQSLPALQHFGLSAQYVVLYKNGIYSPHWNMDANSVIYVIRGQGQVRVVNNEGIVMFDDELKKGQLLVVPQNFMVAEEAGDQGFEYVVFKTNDNAVTSYLKETFRAFPAEVLVNIYKLKHSQVHDLKYNGNLGPLVNPENSLDQSS\"\n",
    "click = WebDriverWait(driver, 1000).until(EC.presence_of_element_located((By.XPATH, '/html/body/div/div/div/main/div/div/div/div/div/div[1]/div[2]/div/ol/li/span/label/span')))"
   ]
  },
  {
   "cell_type": "code",
   "execution_count": 28,
   "metadata": {},
   "outputs": [],
   "source": [
    "#click into text box\n",
    "driver.execute_script(\"arguments[0].click();\", click)\n",
    "#input sequence into box\n",
    "driver.execute_script(\"arguments[0].value= '\" + seq + \"'\" ,search)\n",
    "#had some issues with inputting sequence - worked after adding and deleting a space after seq is input\n",
    "search.send_keys(Keys.SPACE)\n",
    "search.send_keys(Keys.BACK_SPACE)\n",
    "#HTML code showing location of enter/go button\n",
    "go = WebDriverWait(driver, 1000).until(EC.presence_of_element_located((By.XPATH, '/html/body/div/div/div/main/div/div/div/div/form/fieldset/div/ul/li[1]/span')))\n",
    "driver.execute_script(\"arguments[0].click();\", go)"
   ]
  },
  {
   "cell_type": "code",
   "execution_count": 33,
   "metadata": {},
   "outputs": [],
   "source": [
    "#If there are hits, there will be an export button, otherwise it will search for the 'no hits found' text\n",
    "export_button = WebDriverWait(driver, 1000).until(EC.any_of(EC.presence_of_element_located((By.XPATH, '/html/body/div/div/main/div/div[1]/div[1]/ul/li[1]/button')), EC.presence_of_element_located((By.XPATH, '//*[@id=\"content\"]/div/div/h2'))))\n",
    "#Once Phytozome Blast is complete...\n",
    "try:\n",
    "    no_hits = driver.find_element(By.XPATH, '//*[@id=\"content\"]/div/div/h2')\n",
    "    empty_data = {\n",
    "    'Views':[], \n",
    "    'Protein': [], \n",
    "    'Species': [], \n",
    "    'E-Value': [], \n",
    "    '% identity': [], \n",
    "    'Align len': [], \n",
    "    'Strands': [], \n",
    "    'Query ID': [], \n",
    "    'Query from': [],\n",
    "    'Query to': [],\n",
    "    'Target from': [],\n",
    "    'Target to': [],\n",
    "    'Bitscore': [],\n",
    "    '# identical': [],\n",
    "    'Positives': [],\n",
    "    'Gaps': [],\n",
    "    'Query len': [],\n",
    "    'Target len': []\n",
    "    }\n",
    "    df = pd.DataFrame(empty_data)\n",
    "    df\n",
    "except:\n",
    "    #Export as TSV file\n",
    "    driver.execute_script(\"arguments[0].click();\", export_button)\n",
    "    path = 'C:\\\\Users\\\\Tafsia Shikdar\\\\Downloads\\\\phytozome_download\\\\'\n",
    "    list = os.listdir(path)\n",
    "    print(list)\n",
    "    #find the file name by getting the last downloaded file\n",
    "    times = [os.path.getctime(path + file) for file in list]\n",
    "    last_file_time = max(times)\n",
    "    last_file_index = times.index(last_file_time)\n",
    "    last_file = list[last_file_index]\n",
    "    df = pd.read_csv(path + last_file, sep = '\\t').drop('Unnamed: 0', axis = 1)\n",
    "    df\n",
    "    "
   ]
  },
  {
   "cell_type": "code",
   "execution_count": 31,
   "metadata": {},
   "outputs": [
    {
     "name": "stderr",
     "output_type": "stream",
     "text": [
      "C:\\Users\\Tafsia Shikdar\\AppData\\Local\\Temp\\ipykernel_29064\\2297085193.py:8: DeprecationWarning: executable_path has been deprecated, please pass in a Service object\n",
      "  driver = webdriver.Chrome(executable_path='/Users/Tafsia Shikdar/Desktop/protein-uniprot-blast/chromedriver.exe', options=op)\n"
     ]
    }
   ],
   "source": [
    "#object of Options class\n",
    "op = webdriver.ChromeOptions()\n",
    "#browser preferences\n",
    "p = {'download.default_directory':'C:\\\\Users\\\\Tafsia Shikdar\\\\Downloads\\\\phytozome_download'}\n",
    "#add options to browser\n",
    "op.add_experimental_option('prefs', p)\n",
    "#webdriver (interface for remotely controlling browsers) location, specifically for Google Chrome\n",
    "driver = webdriver.Chrome(executable_path='/Users/Tafsia Shikdar/Desktop/protein-uniprot-blast/chromedriver.exe', options=op)\n",
    "#load webpage\n",
    "driver.get(\"https://www.uniprot.org/uniprot/A0A0S3SRA1\")\n",
    "#wait some time before throwing exception to allow web page to load\n",
    "#driver.implicitly_wait(10000)"
   ]
  },
  {
   "cell_type": "code",
   "execution_count": 32,
   "metadata": {},
   "outputs": [
    {
     "ename": "NoSuchElementException",
     "evalue": "Message: no such element: Unable to locate element: {\"method\":\"xpath\",\"selector\":\"/html/body/div[2]/div/div[4]/div[2]/div[3]/div[2]/table/tbody/tr[2]/td[2]/table/tbody/tr[2]/td[2]/a/img\"}\n  (Session info: chrome=104.0.5112.81)\nStacktrace:\nBacktrace:\n\tOrdinal0 [0x00A178B3+2193587]\n\tOrdinal0 [0x009B0681+1771137]\n\tOrdinal0 [0x008C41A8+803240]\n\tOrdinal0 [0x008F24A0+992416]\n\tOrdinal0 [0x008F273B+993083]\n\tOrdinal0 [0x0091F7C2+1177538]\n\tOrdinal0 [0x0090D7F4+1103860]\n\tOrdinal0 [0x0091DAE2+1170146]\n\tOrdinal0 [0x0090D5C6+1103302]\n\tOrdinal0 [0x008E77E0+948192]\n\tOrdinal0 [0x008E86E6+952038]\n\tGetHandleVerifier [0x00CC0CB2+2738370]\n\tGetHandleVerifier [0x00CB21B8+2678216]\n\tGetHandleVerifier [0x00AA17AA+512954]\n\tGetHandleVerifier [0x00AA0856+509030]\n\tOrdinal0 [0x009B743B+1799227]\n\tOrdinal0 [0x009BBB68+1817448]\n\tOrdinal0 [0x009BBC55+1817685]\n\tOrdinal0 [0x009C5230+1856048]\n\tBaseThreadInitThunk [0x75F56739+25]\n\tRtlGetFullPathName_UEx [0x77A18FEF+1215]\n\tRtlGetFullPathName_UEx [0x77A18FBD+1165]\n",
     "output_type": "error",
     "traceback": [
      "\u001b[1;31m---------------------------------------------------------------------------\u001b[0m",
      "\u001b[1;31mNoSuchElementException\u001b[0m                    Traceback (most recent call last)",
      "\u001b[1;32mc:\\Users\\Tafsia Shikdar\\Desktop\\protein-uniprot-blast\\phytozome.py.ipynb Cell 8\u001b[0m in \u001b[0;36m<cell line: 1>\u001b[1;34m()\u001b[0m\n\u001b[1;32m----> <a href='vscode-notebook-cell:/c%3A/Users/Tafsia%20Shikdar/Desktop/protein-uniprot-blast/phytozome.py.ipynb#X10sZmlsZQ%3D%3D?line=0'>1</a>\u001b[0m FASTA \u001b[39m=\u001b[39m driver\u001b[39m.\u001b[39;49mfind_element(By\u001b[39m.\u001b[39;49mXPATH, \u001b[39m'\u001b[39;49m\u001b[39m/html/body/div[2]/div/div[4]/div[2]/div[3]/div[2]/table/tbody/tr[2]/td[2]/table/tbody/tr[2]/td[2]/a/img\u001b[39;49m\u001b[39m'\u001b[39;49m)\n\u001b[0;32m      <a href='vscode-notebook-cell:/c%3A/Users/Tafsia%20Shikdar/Desktop/protein-uniprot-blast/phytozome.py.ipynb#X10sZmlsZQ%3D%3D?line=1'>2</a>\u001b[0m driver\u001b[39m.\u001b[39mexecute_script(\u001b[39m\"\u001b[39m\u001b[39marguments[0].click();\u001b[39m\u001b[39m\"\u001b[39m, FASTA)\n\u001b[0;32m      <a href='vscode-notebook-cell:/c%3A/Users/Tafsia%20Shikdar/Desktop/protein-uniprot-blast/phytozome.py.ipynb#X10sZmlsZQ%3D%3D?line=2'>3</a>\u001b[0m aa_seq \u001b[39m=\u001b[39m driver\u001b[39m.\u001b[39mfind_element(By\u001b[39m.\u001b[39mXPATH, \u001b[39m'\u001b[39m\u001b[39m/html/body\u001b[39m\u001b[39m'\u001b[39m)\n",
      "File \u001b[1;32mc:\\Users\\Tafsia Shikdar\\anaconda3\\envs\\blast\\lib\\site-packages\\selenium\\webdriver\\remote\\webdriver.py:855\u001b[0m, in \u001b[0;36mWebDriver.find_element\u001b[1;34m(self, by, value)\u001b[0m\n\u001b[0;32m    852\u001b[0m     by \u001b[39m=\u001b[39m By\u001b[39m.\u001b[39mCSS_SELECTOR\n\u001b[0;32m    853\u001b[0m     value \u001b[39m=\u001b[39m \u001b[39m'\u001b[39m\u001b[39m[name=\u001b[39m\u001b[39m\"\u001b[39m\u001b[39m%s\u001b[39;00m\u001b[39m\"\u001b[39m\u001b[39m]\u001b[39m\u001b[39m'\u001b[39m \u001b[39m%\u001b[39m value\n\u001b[1;32m--> 855\u001b[0m \u001b[39mreturn\u001b[39;00m \u001b[39mself\u001b[39;49m\u001b[39m.\u001b[39;49mexecute(Command\u001b[39m.\u001b[39;49mFIND_ELEMENT, {\n\u001b[0;32m    856\u001b[0m     \u001b[39m'\u001b[39;49m\u001b[39musing\u001b[39;49m\u001b[39m'\u001b[39;49m: by,\n\u001b[0;32m    857\u001b[0m     \u001b[39m'\u001b[39;49m\u001b[39mvalue\u001b[39;49m\u001b[39m'\u001b[39;49m: value})[\u001b[39m'\u001b[39m\u001b[39mvalue\u001b[39m\u001b[39m'\u001b[39m]\n",
      "File \u001b[1;32mc:\\Users\\Tafsia Shikdar\\anaconda3\\envs\\blast\\lib\\site-packages\\selenium\\webdriver\\remote\\webdriver.py:428\u001b[0m, in \u001b[0;36mWebDriver.execute\u001b[1;34m(self, driver_command, params)\u001b[0m\n\u001b[0;32m    426\u001b[0m response \u001b[39m=\u001b[39m \u001b[39mself\u001b[39m\u001b[39m.\u001b[39mcommand_executor\u001b[39m.\u001b[39mexecute(driver_command, params)\n\u001b[0;32m    427\u001b[0m \u001b[39mif\u001b[39;00m response:\n\u001b[1;32m--> 428\u001b[0m     \u001b[39mself\u001b[39;49m\u001b[39m.\u001b[39;49merror_handler\u001b[39m.\u001b[39;49mcheck_response(response)\n\u001b[0;32m    429\u001b[0m     response[\u001b[39m'\u001b[39m\u001b[39mvalue\u001b[39m\u001b[39m'\u001b[39m] \u001b[39m=\u001b[39m \u001b[39mself\u001b[39m\u001b[39m.\u001b[39m_unwrap_value(\n\u001b[0;32m    430\u001b[0m         response\u001b[39m.\u001b[39mget(\u001b[39m'\u001b[39m\u001b[39mvalue\u001b[39m\u001b[39m'\u001b[39m, \u001b[39mNone\u001b[39;00m))\n\u001b[0;32m    431\u001b[0m     \u001b[39mreturn\u001b[39;00m response\n",
      "File \u001b[1;32mc:\\Users\\Tafsia Shikdar\\anaconda3\\envs\\blast\\lib\\site-packages\\selenium\\webdriver\\remote\\errorhandler.py:243\u001b[0m, in \u001b[0;36mErrorHandler.check_response\u001b[1;34m(self, response)\u001b[0m\n\u001b[0;32m    241\u001b[0m         alert_text \u001b[39m=\u001b[39m value[\u001b[39m'\u001b[39m\u001b[39malert\u001b[39m\u001b[39m'\u001b[39m]\u001b[39m.\u001b[39mget(\u001b[39m'\u001b[39m\u001b[39mtext\u001b[39m\u001b[39m'\u001b[39m)\n\u001b[0;32m    242\u001b[0m     \u001b[39mraise\u001b[39;00m exception_class(message, screen, stacktrace, alert_text)  \u001b[39m# type: ignore[call-arg]  # mypy is not smart enough here\u001b[39;00m\n\u001b[1;32m--> 243\u001b[0m \u001b[39mraise\u001b[39;00m exception_class(message, screen, stacktrace)\n",
      "\u001b[1;31mNoSuchElementException\u001b[0m: Message: no such element: Unable to locate element: {\"method\":\"xpath\",\"selector\":\"/html/body/div[2]/div/div[4]/div[2]/div[3]/div[2]/table/tbody/tr[2]/td[2]/table/tbody/tr[2]/td[2]/a/img\"}\n  (Session info: chrome=104.0.5112.81)\nStacktrace:\nBacktrace:\n\tOrdinal0 [0x00A178B3+2193587]\n\tOrdinal0 [0x009B0681+1771137]\n\tOrdinal0 [0x008C41A8+803240]\n\tOrdinal0 [0x008F24A0+992416]\n\tOrdinal0 [0x008F273B+993083]\n\tOrdinal0 [0x0091F7C2+1177538]\n\tOrdinal0 [0x0090D7F4+1103860]\n\tOrdinal0 [0x0091DAE2+1170146]\n\tOrdinal0 [0x0090D5C6+1103302]\n\tOrdinal0 [0x008E77E0+948192]\n\tOrdinal0 [0x008E86E6+952038]\n\tGetHandleVerifier [0x00CC0CB2+2738370]\n\tGetHandleVerifier [0x00CB21B8+2678216]\n\tGetHandleVerifier [0x00AA17AA+512954]\n\tGetHandleVerifier [0x00AA0856+509030]\n\tOrdinal0 [0x009B743B+1799227]\n\tOrdinal0 [0x009BBB68+1817448]\n\tOrdinal0 [0x009BBC55+1817685]\n\tOrdinal0 [0x009C5230+1856048]\n\tBaseThreadInitThunk [0x75F56739+25]\n\tRtlGetFullPathName_UEx [0x77A18FEF+1215]\n\tRtlGetFullPathName_UEx [0x77A18FBD+1165]\n"
     ]
    }
   ],
   "source": [
    "FASTA = driver.find_element(By.XPATH, '/html/body/div[2]/div/div[4]/div[2]/div[3]/div[2]/table/tbody/tr[2]/td[2]/table/tbody/tr[2]/td[2]/a/img')\n",
    "driver.execute_script(\"arguments[0].click();\", FASTA)\n",
    "aa_seq = driver.find_element(By.XPATH, '/html/body')\n",
    "print(aa_seq.text)\n"
   ]
  },
  {
   "cell_type": "code",
   "execution_count": null,
   "metadata": {},
   "outputs": [],
   "source": []
  }
 ],
 "metadata": {
  "kernelspec": {
   "display_name": "Python 3.10.4 ('blast')",
   "language": "python",
   "name": "python3"
  },
  "language_info": {
   "codemirror_mode": {
    "name": "ipython",
    "version": 3
   },
   "file_extension": ".py",
   "mimetype": "text/x-python",
   "name": "python",
   "nbconvert_exporter": "python",
   "pygments_lexer": "ipython3",
   "version": "3.10.4"
  },
  "orig_nbformat": 4,
  "vscode": {
   "interpreter": {
    "hash": "dbdf5c8dbf87b3169415e0acf39613114f5f150d38cc301bbc68c0e106389f60"
   }
  }
 },
 "nbformat": 4,
 "nbformat_minor": 2
}
